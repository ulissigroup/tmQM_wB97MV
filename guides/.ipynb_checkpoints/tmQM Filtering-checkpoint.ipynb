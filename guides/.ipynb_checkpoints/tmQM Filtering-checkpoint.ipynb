{
 "cells": [
  {
   "cell_type": "markdown",
   "id": "4f4c74db",
   "metadata": {},
   "source": [
    "# Removing Erroneous Structures\n",
    "\n",
    "This notebook shows how the 155 structures in tmQM that were removed when tmQM_wB97MV was generated were found and selected. Note that three additional structures, with CSD codes PIFFEP, NASBOA, and LIKBIS, were also removed due to nonconvergence of the DFT code. Of the 86,662 structures that converged, 155 were removed by the following procedure.\n",
    "\n",
    "Data from the tmQM GitHub repository is used in this notebook, which can be installed at https://github.com/bbskjelstad/tmqm. One does not need to install that repository for this notebook to run, since the necessary data is included in this work. However, if one wanted to verify that the data included here is the same as in tmQM, they should first unzip the `.tar.gz` archives containing the structures in the tmqm folder, concatenate the two files, convert the format to an `extxyz`, and then remove the whitespace between adjacent entries in the file. This will result in the same file included at `all_data/tmQM/tmQM_combined_notcentered.extxyz`."
   ]
  },
  {
   "cell_type": "code",
   "execution_count": 36,
   "id": "636c823f-f41a-49d5-9a8c-90309fb47fb0",
   "metadata": {},
   "outputs": [],
   "source": [
    "#import necessary packages\n",
    "from ase.io import read\n",
    "import numpy as np\n",
    "from tqdm import tqdm, trange"
   ]
  },
  {
   "cell_type": "code",
   "execution_count": 2,
   "id": "f92265e2-f709-4f06-94dd-3f58fd06a6c6",
   "metadata": {},
   "outputs": [],
   "source": [
    "#read extxyz containing all of the structures in tmQM\n",
    "tmqm = read('../all_data/tmQM/tmQM_combined_notcentered.extxyz', index=slice(None), format='extxyz')"
   ]
  },
  {
   "cell_type": "markdown",
   "id": "cfa079bd",
   "metadata": {},
   "source": [
    "Above, we have read the file containing all of the structures in tmQM. In order to determine if there are erroneous structures, we first check if there are any carbons that have either zero or one neighboring atom, when this would violate valence rules.\n",
    "\n",
    "We first define a function to determine, for each complex, for each carbon, the distances between that carbon and its neighbors, in order to find the carbon with the fewest neighbors, and thus bonds. Heuristics of 2 angstrom maximum bond distances for nonmetals with atomic numbers less than 30, and 2.5 angstroms for large nonmetals and metals were used as the cutoff for determining neighbors. Then, we run this function to find all of the structures that have carbons with zero or one neighbor, since they are likely to have erroneous structures."
   ]
  },
  {
   "cell_type": "code",
   "execution_count": 3,
   "id": "61851bfa-2393-4148-b9f5-d7cd88f2cb20",
   "metadata": {},
   "outputs": [],
   "source": [
    "nm_list = [1,  5,  6,  7,  8,  9, 14, 15, 16, 17, 33, 34, 35, 53] #all nonmetals in tmQM\n",
    "\n",
    "def fewestBonds(atoms):\n",
    "    nm_cutoff = 2 #if distance between atoms >2A, not considered neighbors for C (small nonmetals)\n",
    "    m_cutoff = 2.5 #cutoff for metal bonds is 2.5A (and for larger nonmetals, atomic number >30)\n",
    "    positions = atoms.get_positions() #get the positions of the atoms\n",
    "    elements = atoms.get_atomic_numbers() #get the atomic numbers of the atoms\n",
    "    num_neighbors = np.zeros(len(elements)) #initialize an array to store the number of neighbors for each atom\n",
    "    for idx, elem1 in enumerate(elements): #for every atom\n",
    "        if elem1 != 6: #only check the neighbors of the carbons, so skip if not a carbon\n",
    "            continue\n",
    "        pos1 = positions[idx] #get the positions of the carbon of interest\n",
    "        for jdx, elem2 in enumerate(elements): #find the distance between the carbon and all other atoms\n",
    "            pos2 = positions[jdx] #get the position of the other atom\n",
    "            xdist = pos1[0] - pos2[0]\n",
    "            ydist = pos1[1] - pos2[1]\n",
    "            zdist = pos1[2] - pos2[2]\n",
    "            dist = np.sqrt(xdist**2 + ydist**2 + zdist**2)\n",
    "            if elem2 in nm_list: #determine if the other atom is a neighbor or not\n",
    "                if dist < nm_cutoff and idx != jdx: #if atoms not the same and within 2A, neighbors\n",
    "                    num_neighbors[idx] += 1\n",
    "                elif elem2 > 30 and dist < m_cutoff: #if nonmetal atom has atomic number >30, allow 2.5A for neighbors\n",
    "                    num_neighbors[idx] += 1\n",
    "            else: #for metals, if within 2.5A, neighbors\n",
    "                if dist < m_cutoff:\n",
    "                    num_neighbors[idx] += 1\n",
    "    num_neighbors = num_neighbors[num_neighbors != 0] #get rid of all the zero entries in the num_neighbors array\n",
    "    if len(num_neighbors) < np.count_nonzero(elements == 6): #if getting rid of zeros in num_neighbors got rid of a C\n",
    "        return 0.0 #then that carbon had no neighbors\n",
    "    return np.min(num_neighbors) #want to know the carbon with the least neighbors"
   ]
  },
  {
   "cell_type": "code",
   "execution_count": 4,
   "id": "be9054a2-5c0e-4ed9-bf9f-8edc9569f4ea",
   "metadata": {},
   "outputs": [
    {
     "name": "stderr",
     "output_type": "stream",
     "text": [
      "100%|██████████| 86665/86665 [08:16<00:00, 174.69it/s]\n"
     ]
    }
   ],
   "source": [
    "fewest_bonds = []\n",
    "\n",
    "for idx, data in tqdm(enumerate(tmqm), total=len(tmqm)):\n",
    "    fewest_bonds.append(fewestBonds(data))\n",
    "    \n",
    "fewest_bonds = np.array(fewest_bonds)"
   ]
  },
  {
   "cell_type": "code",
   "execution_count": 5,
   "id": "850b2e53-e8c2-4c2f-b151-43f5d8dd070f",
   "metadata": {},
   "outputs": [
    {
     "data": {
      "text/plain": [
       "0"
      ]
     },
     "execution_count": 5,
     "metadata": {},
     "output_type": "execute_result"
    }
   ],
   "source": [
    "np.count_nonzero(fewest_bonds == 0)"
   ]
  },
  {
   "cell_type": "code",
   "execution_count": 6,
   "id": "364242ad",
   "metadata": {},
   "outputs": [
    {
     "data": {
      "text/plain": [
       "130"
      ]
     },
     "execution_count": 6,
     "metadata": {},
     "output_type": "execute_result"
    }
   ],
   "source": [
    "np.count_nonzero(fewest_bonds == 1)"
   ]
  },
  {
   "cell_type": "markdown",
   "id": "e266b0f6",
   "metadata": {},
   "source": [
    "We see that there are 130 structures that have carbons with only one neighbor. We determine if these structures are erroneous or not by hand, by inspecting the CSD entry for their CSD code."
   ]
  },
  {
   "cell_type": "code",
   "execution_count": 20,
   "id": "2835ceef-4410-456c-b333-6a1c157f8105",
   "metadata": {},
   "outputs": [
    {
     "data": {
      "text/plain": [
       "array(['GUMYAP', 'HIWGEZ', 'MQUPTI', 'KASSAY', 'PESFAU', 'LACVIV',\n",
       "       'JIBWUM', 'ACIPTI', 'MCPTIC', 'NONSIT', 'FAHXUI', 'CFMNTV',\n",
       "       'WEKDAR', 'CPTLVB', 'CEXLAS', 'ZURKOM', 'NEBQEQ', 'DAMTIU',\n",
       "       'ZACTAY', 'GEDCEX', 'ZICWIR', 'BAPMAG', 'JEBPUB', 'CPMONC',\n",
       "       'KORGED', 'GOWDAX', 'MCTPCR', 'TEFZOT', 'ROJVOB', 'XEDREE',\n",
       "       'JAWKUN', 'YAJPII', 'MAMYRE', 'VAGCAH', 'FOBVOH', 'GIDSOB',\n",
       "       'VERKIM', 'GEMJOX', 'FICMAF', 'NEBQIU', 'XZODMN', 'GINGUF',\n",
       "       'PABSUG', 'GAJYEY', 'GAJXOH', 'KUBPED', 'NEMGOE', 'JELPEV',\n",
       "       'AHIDEB', 'FOCLUE', 'XILVUL', 'OGONON', 'FAVFEN', 'CAHYIT',\n",
       "       'TLSCRU', 'ZAVLIR', 'JUFCAO', 'VAJVOR', 'SIVREV', 'FACCES',\n",
       "       'IDOZOQ', 'RANKOG', 'ECUCEK', 'CAHMIH', 'ROBMAW', 'VIRQIW',\n",
       "       'JOGVEG', 'CORLUQ', 'SURLEX', 'HEPHIT', 'ACMPNI', 'YUGTUP',\n",
       "       'IPTCNI', 'HEXDUJ', 'PHMTPT', 'LATNID', 'PILWUC', 'BAVLIT',\n",
       "       'MPPNNI', 'SUGWEW', 'SERGIF', 'NIBZUT', 'TOFMPD', 'NIXANT',\n",
       "       'ACPXNI', 'CDBRNI', 'NABGON', 'AESTPT', 'KULJIL', 'TANSNI',\n",
       "       'PDTCNI', 'ECUSEA', 'GECHAX', 'SINBIA', 'DCMPPD', 'DAKZEU',\n",
       "       'DIXCES', 'CETEPT', 'DEFJUT', 'HMBPCU', 'MEBCUU', 'CUVYUN',\n",
       "       'COWWAM', 'COTNUU', 'BUXNEN', 'TINVIV', 'SUCGOM', 'AZAVUS',\n",
       "       'DAYYUX', 'KETMIF', 'SOXNOI', 'MPYHGB', 'MEGUHG', 'IETHSH',\n",
       "       'FUSYAT', 'MECBHG', 'NANPYZ', 'DUGMIB', 'VIYKET', 'CMEEAM',\n",
       "       'BTETHG', 'BSHGCL', 'DUWMIR', 'ZEMRIS', 'MERSET', 'CEDNEE',\n",
       "       'MPYHGN', 'GOFYIJ', 'SEMNED', 'MHGADN'], dtype='<U6')"
      ]
     },
     "execution_count": 20,
     "metadata": {},
     "output_type": "execute_result"
    }
   ],
   "source": [
    "no_neighbor_idxs = np.where(fewest_bonds == 1)[0]\n",
    "\n",
    "no_neighbor_csds = [tmqm[idx].info['CSD_code'] for idx in no_neighbor_idxs]\n",
    "np.array(no_neighbor_csds)"
   ]
  },
  {
   "cell_type": "markdown",
   "id": "7d2405c4",
   "metadata": {},
   "source": [
    "All of the structures above have missing hydrogens on their CSD pages, except for:\n",
    "- OGONON, ROJVOB, SIVREV, and IDOZOQ, which have C- ligands\n",
    "- GAJXOH and GAJYEY, which have C ligands\n",
    "- GUMYAP and HIWGEZ, which do not appear to have any erroneous features.\n",
    "\n",
    "This method then screens out some invalid structures, but it is noted that this method requires manual checking, and cannot catch missing hydrogens in ring structures, or on any non-terminal carbons that have more than one bond. Thus, there may be more erroneous structures that this method did not remove.\n",
    "\n",
    "In order to find some more of these structures, we check all of the structures that are completely missing hydrogens."
   ]
  },
  {
   "cell_type": "code",
   "execution_count": 8,
   "id": "9d7df46c-d7bf-4781-ba51-9c61c7746e05",
   "metadata": {},
   "outputs": [
    {
     "name": "stderr",
     "output_type": "stream",
     "text": [
      "100%|██████████| 86665/86665 [00:00<00:00, 168090.24it/s]"
     ]
    },
    {
     "name": "stdout",
     "output_type": "stream",
     "text": [
      "64\n"
     ]
    },
    {
     "name": "stderr",
     "output_type": "stream",
     "text": [
      "\n"
     ]
    }
   ],
   "source": [
    "no_H = []\n",
    "\n",
    "for idx, data in tqdm(enumerate(tmqm), total=len(tmqm)):\n",
    "    if 1 not in data.get_atomic_numbers(): no_H.append(idx)\n",
    "        \n",
    "print(len(no_H))"
   ]
  },
  {
   "cell_type": "markdown",
   "id": "7094a35d",
   "metadata": {},
   "source": [
    "We again inspect the structures manually to see if there is anything erroneous."
   ]
  },
  {
   "cell_type": "code",
   "execution_count": 9,
   "id": "0071b4e3-dc50-4daa-af8c-ef355a4c10d5",
   "metadata": {},
   "outputs": [
    {
     "data": {
      "text/plain": [
       "array(['LERBUF', 'BIDPAG', 'LACVIV', 'CPTPHF', 'REJZEL', 'MPYHGB',\n",
       "       'RIGGIY', 'MEGUHG', 'HISHGC', 'IETHSH', 'FUSYAT', 'PHGBAN',\n",
       "       'SANLEY', 'FMTPHG', 'MECBHG', 'RAFJUD', 'CUQCUM', 'AQEPOB',\n",
       "       'BINMIU', 'DITPHG', 'HGPARO', 'CMEEAM', 'BTETHG', 'HGCTOX',\n",
       "       'BSHGCL', 'PHGTFM', 'BEGVEO', 'SURHGC', 'DUWMIR', 'PASHGB',\n",
       "       'AQEPUH', 'BIJDAZ', 'AQEPIV', 'EFUGAO', 'BICMUV', 'FMHGAZ',\n",
       "       'MERSET', 'METHGC', 'AQEQAO', 'GERCOW', 'HGTXZO', 'SQUIHG',\n",
       "       'TESZUM', 'CPYHGQ', 'FMHGIC', 'HIXSOX', 'MPYHGN', 'BETWIG',\n",
       "       'PHGCAN', 'RETWOC', 'POKREN', 'QEGQID', 'HGTHUR', 'IPTCHG',\n",
       "       'PHGFAN', 'PENNHG', 'POKRAJ', 'COYRAK', 'HGACAM', 'JATVIJ',\n",
       "       'CYHGTF', 'JAPROH', 'GUKHEZ', 'POKQUC'], dtype='<U6')"
      ]
     },
     "execution_count": 9,
     "metadata": {},
     "output_type": "execute_result"
    }
   ],
   "source": [
    "noH_csds = [tmqm[idx].info['CSD_code'] for idx in no_H]\n",
    "np.array(noH_csds)"
   ]
  },
  {
   "cell_type": "markdown",
   "id": "e5198470",
   "metadata": {},
   "source": [
    "We see that, of the above, the following structures are fine:\n",
    "- POKQUC, POKREN, POKRAJ, FMHGIC, BIDPAG, FMTPHG, CYHGTF, RIGGIY, METHGC, BETWIG, CUQCUM, AQEPIV, AQEPUH, AQEQAO, AQEPOB, BIJDAZ, GUKHEZ, HIXSOX, and GERCOW\n",
    "\n",
    "We now remove all of the valid structures from the invalid list, and create a definitive list of the structures removed."
   ]
  },
  {
   "cell_type": "code",
   "execution_count": 28,
   "id": "908c66e0",
   "metadata": {},
   "outputs": [
    {
     "data": {
      "text/plain": [
       "(array(['DUGMIB', 'HGPARO', 'GEDCEX', 'HEXDUJ', 'JIBWUM', 'IETHSH',\n",
       "        'ZICWIR', 'COTNUU', 'PILWUC', 'MCTPCR', 'NEBQIU', 'VIYKET',\n",
       "        'FAHXUI', 'CDBRNI', 'FOCLUE', 'JEBPUB', 'MPYHGN', 'MCPTIC',\n",
       "        'TLSCRU', 'PHMTPT', 'ZAVLIR', 'FACCES', 'NABGON', 'CUVYUN',\n",
       "        'TINVIV', 'ACMPNI', 'LERBUF', 'BICMUV', 'IPTCNI', 'DIXCES',\n",
       "        'ROBMAW', 'BAVLIT', 'CAHYIT', 'CMEEAM', 'SURHGC', 'DITPHG',\n",
       "        'BSHGCL', 'NEMGOE', 'CAHMIH', 'PHGFAN', 'CPMONC', 'GOWDAX',\n",
       "        'JELPEV', 'MEBCUU', 'PHGTFM', 'ECUCEK', 'AZAVUS', 'NIBZUT',\n",
       "        'HMBPCU', 'LACVIV', 'DUWMIR', 'KETMIF', 'SQUIHG', 'TEFZOT',\n",
       "        'SUCGOM', 'BAPMAG', 'FAVFEN', 'PENNHG', 'SURLEX', 'JAWKUN',\n",
       "        'NONSIT', 'YUGTUP', 'HGTHUR', 'IPTCHG', 'ACPXNI', 'CORLUQ',\n",
       "        'MQUPTI', 'FOBVOH', 'PABSUG', 'DAMTIU', 'TESZUM', 'GOFYIJ',\n",
       "        'ZURKOM', 'VAGCAH', 'DAYYUX', 'DCMPPD', 'COWWAM', 'GINGUF',\n",
       "        'HEPHIT', 'VAJVOR', 'PDTCNI', 'GEMJOX', 'PHGCAN', 'DAKZEU',\n",
       "        'KULJIL', 'TOFMPD', 'DEFJUT', 'CETEPT', 'SUGWEW', 'KUBPED',\n",
       "        'HGTXZO', 'MERSET', 'WEKDAR', 'NANPYZ', 'MPYHGB', 'BTETHG',\n",
       "        'JATVIJ', 'RANKOG', 'CPTLVB', 'SOXNOI', 'NIXANT', 'HISHGC',\n",
       "        'REJZEL', 'XEDREE', 'ECUSEA', 'ZACTAY', 'KORGED', 'KASSAY',\n",
       "        'SERGIF', 'ZEMRIS', 'SANLEY', 'LATNID', 'JUFCAO', 'RAFJUD',\n",
       "        'RETWOC', 'XZODMN', 'SINBIA', 'BINMIU', 'GECHAX', 'AESTPT',\n",
       "        'BUXNEN', 'MECBHG', 'PASHGB', 'SEMNED', 'XILVUL', 'NEBQEQ',\n",
       "        'FUSYAT', 'MPPNNI', 'GIDSOB', 'MAMYRE', 'VIRQIW', 'CPTPHF',\n",
       "        'COYRAK', 'TANSNI', 'FICMAF', 'BEGVEO', 'MHGADN', 'QEGQID',\n",
       "        'MEGUHG', 'PESFAU', 'YAJPII', 'HGCTOX', 'CFMNTV', 'JAPROH',\n",
       "        'AHIDEB', 'CEDNEE', 'EFUGAO', 'CPYHGQ', 'PHGBAN', 'JOGVEG',\n",
       "        'ACIPTI', 'HGACAM', 'VERKIM', 'CEXLAS', 'FMHGAZ'], dtype='<U6'),\n",
       " 155)"
      ]
     },
     "execution_count": 28,
     "metadata": {},
     "output_type": "execute_result"
    }
   ],
   "source": [
    "#list of all removed structures\n",
    "CSDs_nonconverged = ['PIFFEP', 'NASBOA', 'LIKBIS']\n",
    "\n",
    "noH_fine_structures = ['POKQUC', 'POKREN', 'POKRAJ', 'FMHGIC', 'BIDPAG',\n",
    "                       'FMTPHG', 'CYHGTF', 'RIGGIY', 'METHGC', 'BETWIG',\n",
    "                       'CUQCUM', 'AQEPIV', 'AQEPUH', 'AQEQAO', 'AQEPOB',\n",
    "                       'BIJDAZ', 'GUKHEZ', 'HIXSOX', 'GERCOW']\n",
    "\n",
    "no_H_CSDs = list(set(noH_csds) - set(noH_fine_structures))\n",
    "\n",
    "no_neighbors_fine_structures = ['OGONON', 'ROJVOB', 'SIVREV', 'IDOZOQ',\n",
    "                                'GAJXOH', 'GAJYEY', 'GUMYAP', 'HIWGEZ']\n",
    "\n",
    "no_neighbors_CSDs = list(set(no_neighbor_csds) - set(no_neighbors_fine_structures))\n",
    "\n",
    "removed_structures = set(no_H_CSDs + no_neighbors_CSDs)\n",
    "np.array(list(removed_structures)), len(removed_structures)"
   ]
  },
  {
   "cell_type": "markdown",
   "id": "bb26ca82",
   "metadata": {},
   "source": [
    "It is seen that we remove 155 structures, which are listed above, in addition to the three nonconverged structures. To access information about these structures, see their CSD entry, or use a command similar to the following to get the ASE Atoms representation. Merely change the `csd` variable to the CSD code of interest to view a different structure."
   ]
  },
  {
   "cell_type": "code",
   "execution_count": 25,
   "id": "8eb521ae",
   "metadata": {},
   "outputs": [
    {
     "data": {
      "text/plain": [
       "Atoms(symbols='WBrON2C11H8', pbc=False)"
      ]
     },
     "execution_count": 25,
     "metadata": {},
     "output_type": "execute_result"
    }
   ],
   "source": [
    "csd = 'ZACTAY'\n",
    "tmqm[outlier_idxs[np.where(np.array(outlier_csds) == csd)[0][0]]]"
   ]
  },
  {
   "cell_type": "markdown",
   "id": "a65bd5c5",
   "metadata": {},
   "source": [
    "These 158 structures were removed before generating the final version of tmQM_wB97MV. The final, complete datasets can be found in the `all_data` directory, as ASE dbs. These dbs contain all of the properties in tmQM for the tmQM datasets, as well as the targets used for ML training, and a numerical SID identifier that is unique to each structure for a given dataset. For tmQM_wB97MV, only the recomputed energy and the targets used for training are included in the dbs. An ASE db of these 158 removed structures is also included, which contains those structures' properties from tmQM along with their recomputed energies, if applicable. For an example of how to read and use an ASE db, see the following cell."
   ]
  },
  {
   "cell_type": "code",
   "execution_count": 35,
   "id": "a9b2a7ce",
   "metadata": {},
   "outputs": [],
   "source": [
    "from ase.db import connect\n",
    "from ase.io import read\n",
    "db = connect('../all_data/removed_structures/removed_structures.db')"
   ]
  },
  {
   "cell_type": "code",
   "execution_count": 41,
   "id": "0320a876",
   "metadata": {},
   "outputs": [
    {
     "name": "stderr",
     "output_type": "stream",
     "text": [
      "100%|██████████| 158/158 [00:00<00:00, 558.61it/s]\n"
     ]
    },
    {
     "data": {
      "text/plain": [
       "(Atoms(symbols='CoSi8O16C4H7', pbc=False),\n",
       " {'CSD_code': 'PIFFEP',\n",
       "  'q': 0,\n",
       "  'S': 0,\n",
       "  'Stoichiometry': 'C4H7CoO16Si8',\n",
       "  'MND': 5,\n",
       "  'Electronic_E': -5058.53082,\n",
       "  'Dispersion_E': -0.097131,\n",
       "  'Dipole_M': 0.2499,\n",
       "  'Metal_q': -1.37603,\n",
       "  'HL_Gap': 0.18321,\n",
       "  'HOMO_Energy': -0.25066,\n",
       "  'LUMO_Energy': -0.06745,\n",
       "  'Polarizability': 325.114085,\n",
       "  'Recomputed_E': 'NOT CONVERGED'})"
      ]
     },
     "execution_count": 41,
     "metadata": {},
     "output_type": "execute_result"
    }
   ],
   "source": [
    "csd = 'PIFFEP'\n",
    "for idx in trange(1, len(db)+1):\n",
    "    row = db.get(id=idx)\n",
    "    if row.data['CSD_code'] == csd:\n",
    "        structure = read('../all_data/removed_structures/removed_structures.db@id='+str(idx))[0]\n",
    "        structure.info = row.data\n",
    "        \n",
    "structure, structure.info"
   ]
  },
  {
   "cell_type": "markdown",
   "id": "49130e92",
   "metadata": {},
   "source": [
    "In general, one obtains the structures by using the `ase.io.read` command on the db, while also specifying an index (starting from 1). The data in the ASE db is retrieved by finding the row in the database, via using the `db.get` command with the same index, which can then be appended to the ASE Atoms object by setting it as the `info` dictionary, or used in other applications."
   ]
  }
 ],
 "metadata": {
  "kernelspec": {
   "display_name": "Python 3 (ipykernel)",
   "language": "python",
   "name": "python3"
  },
  "language_info": {
   "codemirror_mode": {
    "name": "ipython",
    "version": 3
   },
   "file_extension": ".py",
   "mimetype": "text/x-python",
   "name": "python",
   "nbconvert_exporter": "python",
   "pygments_lexer": "ipython3",
   "version": "3.9.15"
  }
 },
 "nbformat": 4,
 "nbformat_minor": 5
}
